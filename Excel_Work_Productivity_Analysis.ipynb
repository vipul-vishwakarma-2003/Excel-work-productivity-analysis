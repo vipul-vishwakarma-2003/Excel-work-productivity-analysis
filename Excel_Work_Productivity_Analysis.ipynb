{
  "nbformat": 4,
  "nbformat_minor": 0,
  "metadata": {
    "colab": {
      "provenance": []
    },
    "kernelspec": {
      "name": "python3",
      "display_name": "Python 3"
    },
    "language_info": {
      "name": "python"
    }
  },
  "cells": [
    {
      "cell_type": "markdown",
      "source": [
        "Employee Work Productivity Analysis\n",
        "\n",
        "---\n",
        "\n",
        "1. Top 5 Productive Employees:<br>a. Use the SORT and FILTER functions to display the top 5 employees with the highest productivity scores<br>b. Create a bar chart to visualize the results\n",
        "  - step 1 - select the data -> select the option sort & filter apply the settings.<br>\n",
        "  step 2 - use the drop down arrow of productivity select the option number filters -> top10 -> in second box type 5 -> click OK.\n",
        "\n",
        "2. Department-Wise Productivity Consistency<br>\n",
        " Calculate the standard deviation of productivity scores within each department to assess consistency<br>\n",
        " Which department has the least variation in employee productivity?\n",
        "  - step 1 - select the entire data -> insert -> pivot table -> OK<br>\n",
        "  step 2 - drag the department option in column -> drag the productivity score in value -> click OK.\n",
        "  - marketing department has the least variation in employee productivity.\n",
        "\n",
        "3. Productivity Efficiency Index (PEI)<br>\n",
        " Create a new column PEI (Productivity Efficiency Index) using this formula:<br>\n",
        " PEI = (Productivity_Score x Performance_Rating) / Hours_Worked<br>\n",
        " Rank all employees based on PEI and display the top 3.\n",
        "  - step 1 - go to cell H1 enter PEI in cell H2 type the formula =(F2 * G2) / D2<br>press Enter.<br>step 2 - use the drop down arrow of PEI select the option number filters -> top10 -> in second box type 3 -> click OK.\n",
        "\n",
        "4.  Correlation Analysis\n",
        "\n",
        " Question 1:<br>\n",
        " Determine which has a stronger influence on Performance Rating: Hours_Worked or Tasks_Completed?<br>\n",
        " Use correlation coefficients to compare both relationships.\n",
        "  - Task_completed has more influence on Perfomnace rating with corelation coefficient of 0.957455370364762 .\n",
        "\n",
        " Question 2:<br>\n",
        " Work Hours and Productivity Correlation<br>\n",
        " Create a scatter plot to visualize the relationship between Hours_Worked and Productivity_Score<br>\n",
        " Identify if there is a positive or negative correlation\n",
        "  - step  - select the data -> charts -> scatter plot -> OK.\n",
        "  - There is a positive relation between Hours_worked and Productivity_score. As it's show the direct relationship between them.\n",
        "\n",
        "5.  Underutilized High Performers<br>\n",
        " Question:<br>\n",
        " Identify employees who:<br>\n",
        " Have a Performance Rating ≥ 4, AND<br>\n",
        " Worked less than the average hours of all employees.<br>\n",
        " These might be underutilized but efficient employees.\n",
        "  - step 1 - use the formula -> =AVERAGE(D2:D26) to get the average working hour.<br>\n",
        "  step 2 - create the new column to check the efficiency.<br>In cell H2 type the formula =IF(AND(G2>=4, D2<=$D$30), \"Efficient\", \"Not Efficient\") press ENTER.<br>Drag the fill handle till the end it gives the underutilized but efficient employee.\n",
        "\n",
        "6. Tasks per Hour Efficiency<br>\n",
        " Question:<br>\n",
        " Add a column Tasks per Hour:<br>\n",
        " Tasks_per_Hour = Tasks_Completed / Hours_Worked<br>\n",
        " Who is the most task-efficient employee based on this metric?<br>\n",
        " Compare their performance score and rating.\n",
        "  - Step 1 - To add a column go to cell I1 create the column with the name of Task per hour<br>Step 2 - Type the formula =E2/D2, Press ENTER.<br>\n",
        "  Step 3 - Drage the fill handle till the end.\n",
        "  - TO compare the data and display the high task performer<br>\n",
        "  Step 1 - Select the entire data create a pivote table, enter the location.<br>Step 2 - In row drag the name, and in values section drag task per hour, Sum of performance_rating, Sum of productivity_scorez.\n",
        "  <br> Step 3 - Drop down arrow of Name select the top 1."
      ],
      "metadata": {
        "id": "5kLVnV6pyFFl"
      }
    },
    {
      "cell_type": "markdown",
      "source": [
        "EXCEL WorkBook Link\n",
        "\n",
        "[Employee Work Productivity Analysis](https://1drv.ms/x/c/77d3c2021f740d37/EZrtvImUlwlDljqnipElELsBgGM4vpy3MpexEnb2lkIe7A)\n"
      ],
      "metadata": {
        "id": "5LPIctZNOJAK"
      }
    }
  ]
}